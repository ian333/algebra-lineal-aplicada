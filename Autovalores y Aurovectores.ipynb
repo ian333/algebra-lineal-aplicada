{
 "cells": [
  {
   "cell_type": "markdown",
   "source": "# Autovalores y autovectores \nEl tema de los **autovalores y autovectores** pues la obtención de los valores de forma matemática es compleja (si nunca has tenido una clase de algebra lineal).\nLes recomiendo consultar videos o libros que expliquen el trasfondo matemático\nAquí algunos datos útiles:\n\nPara conseguir los autovalores y autoverctores de la matriz A, esta debe ser cuadrada (ej: 2x2, 3x3, 9x9…)\nLa matriz A tendrá tantos autovalores como dimensión tenga A (ej: una Matriz de 3x3 tiene 3 autovalores, matriz de 2x2 tiene dos autovalores)\nLos autovalores pueden repetirse\nEstos autovalores son los que forman los autovectores\nLos autovectores deben ser base, es decir, que desde esos autovectores se pueda generar todo el espacio o demás vectores\nAqui les dejo un Link de los usos de autovectores y valores en ingeniería",
   "metadata": {
    "cell_id": "56bcb106-2d05-4adc-8263-389a73bd8506",
    "tags": [],
    "deepnote_cell_type": "markdown"
   }
  },
  {
   "cell_type": "code",
   "metadata": {
    "cell_id": "cb9cd7be-f54f-4f2a-bd2f-7e7b1055608e",
    "tags": [],
    "deepnote_to_be_reexecuted": false,
    "source_hash": "b623e53d",
    "execution_start": 1646541687553,
    "deepnote_cell_type": "code"
   },
   "source": "",
   "execution_count": 0,
   "outputs": []
  },
  {
   "cell_type": "code",
   "metadata": {
    "tags": [],
    "cell_id": "21e2d1da-561a-4f12-8f8c-23d215d55064",
    "deepnote_to_be_reexecuted": false,
    "source_hash": "250499ec",
    "execution_start": 1646541687600,
    "execution_millis": 7850,
    "deepnote_cell_type": "code"
   },
   "source": "%matplotlib inline\n\nimport numpy as np\nimport matplotlib.pyplot as plt\n",
   "outputs": [],
   "execution_count": null
  },
  {
   "cell_type": "code",
   "metadata": {
    "cell_id": "ffe7c1f4-8eed-4bf8-abf2-f760a9bdf0c0",
    "tags": [],
    "deepnote_to_be_reexecuted": false,
    "source_hash": "ce7c69ff",
    "execution_start": 1646541695463,
    "execution_millis": 532,
    "deepnote_cell_type": "code"
   },
   "source": "%run \"..//funciones auxiliares/graficarVectores.ipynb\"",
   "outputs": [],
   "execution_count": null
  },
  {
   "cell_type": "code",
   "metadata": {
    "cell_id": "9ce883e8-dcb7-4ff0-96ea-8a98746980e5",
    "tags": [],
    "deepnote_to_be_reexecuted": false,
    "source_hash": "c4f4aa42",
    "execution_start": 1646541696053,
    "execution_millis": 6,
    "deepnote_cell_type": "code"
   },
   "source": "orange_light = '#FF9A13'\nblue_light = '#1190FF'\n\n",
   "outputs": [],
   "execution_count": null
  },
  {
   "cell_type": "code",
   "metadata": {
    "cell_id": "e79a3e20-cc83-4efb-865f-5dbe92c49d23",
    "tags": [],
    "deepnote_to_be_reexecuted": false,
    "source_hash": "8b4cbf7d",
    "execution_start": 1646541696094,
    "execution_millis": 372,
    "deepnote_cell_type": "code"
   },
   "source": "X = np.array([[3,2],[4,1]])\nprint(X)",
   "outputs": [
    {
     "name": "stdout",
     "text": "[[3 2]\n [4 1]]\n",
     "output_type": "stream"
    }
   ],
   "execution_count": null
  },
  {
   "cell_type": "code",
   "metadata": {
    "cell_id": "4bad2f49-860e-488e-b816-e3344251e580",
    "tags": [],
    "deepnote_to_be_reexecuted": false,
    "source_hash": "c09dbbbf",
    "execution_start": 1646541696186,
    "execution_millis": 336,
    "deepnote_cell_type": "code"
   },
   "source": "v= np.array([[1],[1]])\nprint(v)",
   "outputs": [
    {
     "name": "stdout",
     "text": "[[1]\n [1]]\n",
     "output_type": "stream"
    }
   ],
   "execution_count": null
  },
  {
   "cell_type": "code",
   "metadata": {
    "cell_id": "5c9b448e-84ff-4f56-ba93-7923c3290ae5",
    "tags": [],
    "deepnote_to_be_reexecuted": false,
    "source_hash": "2b22cf32",
    "execution_start": 1646541696288,
    "execution_millis": 237,
    "deepnote_cell_type": "code"
   },
   "source": "U = X.dot(v)\nprint(U)",
   "outputs": [
    {
     "name": "stdout",
     "text": "[[5]\n [5]]\n",
     "output_type": "stream"
    }
   ],
   "execution_count": null
  },
  {
   "cell_type": "code",
   "metadata": {
    "cell_id": "ba5355ad-3094-4915-b7cc-55599a5941ce",
    "tags": [],
    "deepnote_to_be_reexecuted": false,
    "source_hash": "f768ce44",
    "execution_start": 1646541696425,
    "execution_millis": 1315,
    "deepnote_cell_type": "code"
   },
   "source": "graficarVectores([U.flatten(),v.flatten()],cols=[orange_light,blue_light])\nplt.xlim(-1,6)\nplt.ylim(-1,6)",
   "outputs": [
    {
     "output_type": "execute_result",
     "execution_count": 7,
     "data": {
      "text/plain": "(-1.0, 6.0)"
     },
     "metadata": {}
    },
    {
     "data": {
      "text/plain": "<Figure size 432x288 with 1 Axes>",
      "image/png": "[encoded data removed]"
     },
     "metadata": {
      "needs_background": "light",
      "image/png": {
       "width": 374,
       "height": 252
      }
     },
     "output_type": "display_data"
    }
   ],
   "execution_count": null
  },
  {
   "cell_type": "code",
   "metadata": {
    "cell_id": "49f47816-9c48-4192-a8bd-e83a8ae1ebb3",
    "tags": [],
    "deepnote_to_be_reexecuted": false,
    "source_hash": "8f0e5cd8",
    "execution_start": 1646541697811,
    "execution_millis": 12,
    "deepnote_cell_type": "code"
   },
   "source": "lambda_1=5\nlambda_1*v",
   "outputs": [
    {
     "output_type": "execute_result",
     "execution_count": 8,
     "data": {
      "text/plain": "array([[5],\n       [5]])"
     },
     "metadata": {}
    }
   ],
   "execution_count": null
  },
  {
   "cell_type": "code",
   "metadata": {
    "cell_id": "507837af-98d0-4813-9bcb-8aa62de6fe63",
    "tags": [],
    "deepnote_to_be_reexecuted": false,
    "source_hash": "55d41efb",
    "execution_start": 1646541697892,
    "execution_millis": 5936027,
    "deepnote_cell_type": "code"
   },
   "source": "s=np.array([[-1],[2]])\nprint(s)",
   "outputs": [
    {
     "name": "stdout",
     "text": "[[-1]\n [ 2]]\n",
     "output_type": "stream"
    }
   ],
   "execution_count": null
  },
  {
   "cell_type": "code",
   "metadata": {
    "cell_id": "f63243e4-aaa8-41e7-88d0-c36da50ba336",
    "tags": [],
    "deepnote_to_be_reexecuted": false,
    "source_hash": "acc82b79",
    "execution_start": 1646541697981,
    "execution_millis": 5921320,
    "deepnote_cell_type": "code"
   },
   "source": "t=X.dot(s)\nt",
   "outputs": [
    {
     "output_type": "execute_result",
     "execution_count": 10,
     "data": {
      "text/plain": "array([[ 1],\n       [-2]])"
     },
     "metadata": {}
    }
   ],
   "execution_count": null
  },
  {
   "cell_type": "code",
   "metadata": {
    "cell_id": "0c7bf11b-5598-4015-93b8-9d3a855c832f",
    "tags": [],
    "deepnote_to_be_reexecuted": false,
    "source_hash": "37c9c965",
    "execution_start": 1646541698000,
    "execution_millis": 1121,
    "deepnote_cell_type": "code"
   },
   "source": "graficarVectores([s.flatten(),t.flatten()],cols=[orange_light,blue_light])\nplt.xlim(-3,3)\nplt.ylim(-3,3)",
   "outputs": [
    {
     "output_type": "execute_result",
     "execution_count": 11,
     "data": {
      "text/plain": "(-3.0, 3.0)"
     },
     "metadata": {}
    },
    {
     "data": {
      "text/plain": "<Figure size 432x288 with 1 Axes>",
      "image/png": "[encoded data removed]"
     },
     "metadata": {
      "needs_background": "light",
      "image/png": {
       "width": 374,
       "height": 252
      }
     },
     "output_type": "display_data"
    }
   ],
   "execution_count": null
  },
  {
   "cell_type": "code",
   "metadata": {
    "cell_id": "ee8bcb45-566c-48f5-a9b5-a3fd57c5c2f4",
    "tags": [],
    "deepnote_to_be_reexecuted": false,
    "source_hash": "b623e53d",
    "execution_start": 1646541699177,
    "execution_millis": 0,
    "deepnote_cell_type": "code"
   },
   "source": "",
   "outputs": [],
   "execution_count": null
  },
  {
   "cell_type": "markdown",
   "source": "<a style='text-decoration:none;line-height:16px;display:flex;color:#5B5B62;padding:10px;justify-content:end;' href='https://deepnote.com?utm_source=created-in-deepnote-cell&projectId=e4a76e78-c18a-4fc7-af6b-dc86cc664138' target=\"_blank\">\n<img alt='Created in deepnote.com' style='display:inline;max-height:16px;margin:0px;margin-right:7.5px;' src='data:image/svg+xml;base64,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' > </img>\nCreated in <span style='font-weight:600;margin-left:4px;'>Deepnote</span></a>",
   "metadata": {
    "tags": [],
    "created_in_deepnote_cell": true,
    "deepnote_cell_type": "markdown"
   }
  }
 ],
 "nbformat": 4,
 "nbformat_minor": 2,
 "metadata": {
  "orig_nbformat": 2,
  "deepnote": {
   "is_reactive": false
  },
  "deepnote_notebook_id": "c8009b47-225c-42b3-8e99-a19dd3516afa",
  "deepnote_execution_queue": []
 }
}