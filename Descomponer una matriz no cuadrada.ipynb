{
 "cells": [
  {
   "cell_type": "code",
   "metadata": {
    "tags": [],
    "cell_id": "03f2e0f5-b609-4560-9dfc-c49fefb39d18",
    "deepnote_to_be_reexecuted": false,
    "source_hash": "1ed3300c",
    "execution_start": 1647736210650,
    "execution_millis": 1574,
    "deepnote_cell_type": "code",
    "deepnote_cell_height": 81
   },
   "source": "%matplotlib inline",
   "outputs": [],
   "execution_count": null
  },
  {
   "cell_type": "code",
   "metadata": {
    "cell_id": "d5fc278a-6edc-4c12-b49f-3ef5cf0efd3c",
    "tags": [],
    "deepnote_to_be_reexecuted": false,
    "source_hash": "3aa18f8f",
    "execution_start": 1647736212232,
    "execution_millis": 407,
    "deepnote_cell_type": "code",
    "deepnote_cell_height": 227.375,
    "deepnote_output_heights": [
     40.390625
    ]
   },
   "source": "import numpy as np\n\nA = np.array([[1,2,3],[3,4,5]])\n\nA\n",
   "outputs": [
    {
     "output_type": "execute_result",
     "execution_count": 2,
     "data": {
      "text/plain": "array([[1, 2, 3],\n       [3, 4, 5]])"
     },
     "metadata": {}
    }
   ],
   "execution_count": null
  },
  {
   "cell_type": "code",
   "metadata": {
    "cell_id": "00a9b183-3f6f-4f91-bd3e-887b04e4bc75",
    "tags": [],
    "deepnote_to_be_reexecuted": false,
    "source_hash": "b4359655",
    "execution_start": 1647736212245,
    "execution_millis": 2,
    "deepnote_cell_type": "code",
    "deepnote_cell_height": 81
   },
   "source": "U,D,V = np.linalg.svd(A)",
   "outputs": [],
   "execution_count": null
  },
  {
   "cell_type": "code",
   "metadata": {
    "cell_id": "271f2ccc-fb8b-43ab-a188-95fda4ab3d38",
    "tags": [],
    "deepnote_to_be_reexecuted": false,
    "source_hash": "9c544e17",
    "execution_start": 1647736212253,
    "execution_millis": 395,
    "deepnote_cell_type": "code",
    "deepnote_cell_height": 132
   },
   "source": "print(U)",
   "outputs": [
    {
     "name": "stdout",
     "text": "[[-0.46410668 -0.88577931]\n [-0.88577931  0.46410668]]\n",
     "output_type": "stream"
    }
   ],
   "execution_count": null
  },
  {
   "cell_type": "code",
   "metadata": {
    "cell_id": "1d1f9211-8023-4df1-9f45-c5a418e28adf",
    "tags": [],
    "deepnote_to_be_reexecuted": false,
    "source_hash": "5d1fde1a",
    "execution_start": 1647736212289,
    "execution_millis": 0,
    "deepnote_cell_type": "code",
    "deepnote_cell_height": 112
   },
   "source": "print(D)",
   "outputs": [
    {
     "name": "stdout",
     "text": "[7.97638869 0.61418515]\n",
     "output_type": "stream"
    }
   ],
   "execution_count": null
  },
  {
   "cell_type": "code",
   "metadata": {
    "cell_id": "05b1b5ef-bb19-4c0f-9fc9-cee294e5c19d",
    "tags": [],
    "deepnote_to_be_reexecuted": false,
    "source_hash": "5f5620fa",
    "execution_start": 1647736212290,
    "execution_millis": 367,
    "deepnote_cell_type": "code",
    "deepnote_cell_height": 132
   },
   "source": "print(np.diag(D))",
   "outputs": [
    {
     "name": "stdout",
     "text": "[[7.97638869 0.        ]\n [0.         0.61418515]]\n",
     "output_type": "stream"
    }
   ],
   "execution_count": null
  },
  {
   "cell_type": "code",
   "metadata": {
    "cell_id": "1acafe82-298c-4ca0-b976-f5b8fb678951",
    "tags": [],
    "deepnote_to_be_reexecuted": false,
    "source_hash": "5d1fde1a",
    "execution_start": 1647736212291,
    "execution_millis": 366,
    "deepnote_cell_type": "code",
    "deepnote_cell_height": 112
   },
   "source": "print(D)",
   "outputs": [
    {
     "name": "stdout",
     "text": "[7.97638869 0.61418515]\n",
     "output_type": "stream"
    }
   ],
   "execution_count": null
  },
  {
   "cell_type": "code",
   "metadata": {
    "cell_id": "a92b3c9e-3eb2-4152-9338-3e9a2606dac2",
    "tags": [],
    "deepnote_to_be_reexecuted": false,
    "source_hash": "1c5709d7",
    "execution_start": 1647736212304,
    "execution_millis": 355,
    "deepnote_cell_type": "code",
    "deepnote_cell_height": 152
   },
   "source": "print(V)",
   "outputs": [
    {
     "name": "stdout",
     "text": "[[-0.39133557 -0.5605708  -0.72980603]\n [ 0.8247362   0.13817999 -0.54837623]\n [ 0.40824829 -0.81649658  0.40824829]]\n",
     "output_type": "stream"
    }
   ],
   "execution_count": null
  },
  {
   "cell_type": "code",
   "metadata": {
    "cell_id": "0670dc62-3696-48b4-9e96-4c305fa9edf5",
    "tags": [],
    "deepnote_to_be_reexecuted": false,
    "source_hash": "8a48747d",
    "execution_start": 1647736212356,
    "execution_millis": 319,
    "deepnote_cell_type": "code",
    "deepnote_cell_height": 144.1875
   },
   "source": "A=print((U.dot(D)).dot(V))",
   "outputs": [
    {
     "output_type": "error",
     "ename": "ValueError",
     "evalue": "shapes (2,) and (3,3) not aligned: 2 (dim 0) != 3 (dim 0)",
     "traceback": [
      "\u001b[0;31m---------------------------------------------------------------------------\u001b[0m",
      "\u001b[0;31mValueError\u001b[0m                                Traceback (most recent call last)",
      "\u001b[0;32m<ipython-input-9-3365b23eba51>\u001b[0m in \u001b[0;36m<module>\u001b[0;34m\u001b[0m\n\u001b[0;32m----> 1\u001b[0;31m \u001b[0mA\u001b[0m\u001b[0;34m=\u001b[0m\u001b[0mprint\u001b[0m\u001b[0;34m(\u001b[0m\u001b[0;34m(\u001b[0m\u001b[0mU\u001b[0m\u001b[0;34m.\u001b[0m\u001b[0mdot\u001b[0m\u001b[0;34m(\u001b[0m\u001b[0mD\u001b[0m\u001b[0;34m)\u001b[0m\u001b[0;34m)\u001b[0m\u001b[0;34m.\u001b[0m\u001b[0mdot\u001b[0m\u001b[0;34m(\u001b[0m\u001b[0mV\u001b[0m\u001b[0;34m)\u001b[0m\u001b[0;34m)\u001b[0m\u001b[0;34m\u001b[0m\u001b[0;34m\u001b[0m\u001b[0m\n\u001b[0m",
      "\u001b[0;31mValueError\u001b[0m: shapes (2,) and (3,3) not aligned: 2 (dim 0) != 3 (dim 0)"
     ]
    }
   ],
   "execution_count": null
  },
  {
   "cell_type": "code",
   "metadata": {
    "cell_id": "95b3d1b0-214c-47dd-87b5-717b01bc6964",
    "tags": [],
    "deepnote_to_be_reexecuted": true,
    "source_hash": "b623e53d",
    "deepnote_cell_type": "code",
    "deepnote_cell_height": 66
   },
   "source": "",
   "execution_count": null,
   "outputs": []
  },
  {
   "cell_type": "markdown",
   "source": "<a style='text-decoration:none;line-height:16px;display:flex;color:#5B5B62;padding:10px;justify-content:end;' href='https://deepnote.com?utm_source=created-in-deepnote-cell&projectId=e4a76e78-c18a-4fc7-af6b-dc86cc664138' target=\"_blank\">\n<img alt='Created in deepnote.com' style='display:inline;max-height:16px;margin:0px;margin-right:7.5px;' src='data:image/svg+xml;base64,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' > </img>\nCreated in <span style='font-weight:600;margin-left:4px;'>Deepnote</span></a>",
   "metadata": {
    "tags": [],
    "created_in_deepnote_cell": true,
    "deepnote_cell_type": "markdown"
   }
  }
 ],
 "nbformat": 4,
 "nbformat_minor": 2,
 "metadata": {
  "orig_nbformat": 2,
  "deepnote": {
   "is_reactive": false
  },
  "deepnote_notebook_id": "0b92ae2c-d063-45a6-a37f-635be7f6ce8e",
  "deepnote_execution_queue": []
 }
}