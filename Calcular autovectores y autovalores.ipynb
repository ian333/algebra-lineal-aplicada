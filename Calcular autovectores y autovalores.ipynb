{
 "cells": [
  {
   "cell_type": "markdown",
   "source": "# Calcular Autovectores y Autovalores\n**np.linalg.eig(x) - Obtiene los autovalores y autovectores asociados**\n\nLos autovectores encontrados por numpy son **un múltiplo del propuesto** en el ejercicio. Los autovectores son los mismos, lo que varía es la amplitud o el sentido",
   "metadata": {
    "cell_id": "1b5137e6-6e05-4abc-9401-e38b9598dfcb",
    "tags": [],
    "deepnote_cell_type": "markdown"
   }
  },
  {
   "cell_type": "code",
   "metadata": {
    "cell_id": "c29dbce1-6a90-4561-aa63-ed91d0c60a0a",
    "tags": [],
    "deepnote_to_be_reexecuted": false,
    "source_hash": "4d9ca1c5",
    "execution_start": 1646613929939,
    "execution_millis": 1766,
    "deepnote_cell_type": "code"
   },
   "source": "%matplotlib inline\n\nimport matplotlib.pyplot as plt\nimport numpy as np\n\n\n",
   "outputs": [],
   "execution_count": null
  },
  {
   "cell_type": "code",
   "source": "X= np.array([[3,2],[4,1]])\nprint(X)",
   "metadata": {
    "cell_id": "67902263-88c6-437c-b885-593d83c6d23d",
    "tags": [],
    "deepnote_to_be_reexecuted": false,
    "source_hash": "d5df230d",
    "execution_start": 1646613973293,
    "execution_millis": 4,
    "deepnote_cell_type": "code"
   },
   "outputs": [
    {
     "name": "stdout",
     "text": "[[3 2]\n [4 1]]\n",
     "output_type": "stream"
    }
   ],
   "execution_count": null
  },
  {
   "cell_type": "code",
   "source": "print(np.linalg.eig(X))",
   "metadata": {
    "cell_id": "668b7448-fa5c-436e-ae51-007247aa33ee",
    "tags": [],
    "deepnote_to_be_reexecuted": false,
    "source_hash": "812f53a7",
    "execution_start": 1646614266833,
    "execution_millis": 12,
    "deepnote_cell_type": "code"
   },
   "outputs": [
    {
     "name": "stdout",
     "text": "(array([ 5., -1.]), array([[ 0.70710678, -0.4472136 ],\n       [ 0.70710678,  0.89442719]]))\n",
     "output_type": "stream"
    }
   ],
   "execution_count": null
  },
  {
   "cell_type": "code",
   "source": "autovalores, autovectores =np.linalg.eig(X)\nprint(autovalores)\n",
   "metadata": {
    "cell_id": "1b73e852-7c1c-4749-83a5-2057010cb0c5",
    "tags": [],
    "deepnote_to_be_reexecuted": false,
    "source_hash": "4e528c71",
    "execution_start": 1646614355177,
    "execution_millis": 6,
    "deepnote_cell_type": "code"
   },
   "outputs": [
    {
     "name": "stdout",
     "text": "[ 5. -1.]\n",
     "output_type": "stream"
    }
   ],
   "execution_count": null
  },
  {
   "cell_type": "code",
   "source": "print(autovectores[:,0])",
   "metadata": {
    "cell_id": "c656f974-09fe-4213-875f-0dfd2b144252",
    "tags": [],
    "deepnote_to_be_reexecuted": false,
    "source_hash": "2f66aeee",
    "execution_start": 1646614387837,
    "execution_millis": 2,
    "deepnote_cell_type": "code"
   },
   "outputs": [
    {
     "name": "stdout",
     "text": "[0.70710678 0.70710678]\n",
     "output_type": "stream"
    }
   ],
   "execution_count": null
  },
  {
   "cell_type": "code",
   "source": "print(autovectores[:,1])",
   "metadata": {
    "cell_id": "d2a86a63-1d20-41cb-8d40-e6c19058f342",
    "tags": [],
    "deepnote_to_be_reexecuted": false,
    "source_hash": "157e5477",
    "execution_start": 1646614404464,
    "execution_millis": 14,
    "deepnote_cell_type": "code"
   },
   "outputs": [
    {
     "name": "stdout",
     "text": "[-0.4472136   0.89442719]\n",
     "output_type": "stream"
    }
   ],
   "execution_count": null
  },
  {
   "cell_type": "code",
   "source": "%run \"../funciones auxiliares/graficarVectores.ipynb\"",
   "metadata": {
    "cell_id": "3b323c28-d2d9-413b-933b-db11943deab9",
    "tags": [],
    "deepnote_to_be_reexecuted": false,
    "source_hash": "6dba417e",
    "execution_start": 1646614484282,
    "execution_millis": 194,
    "deepnote_cell_type": "code"
   },
   "outputs": [],
   "execution_count": null
  },
  {
   "cell_type": "code",
   "source": "v = np.array([[-1],[2]])\nXv = X.dot(v)\nv_np = autovectores[:,1]\n\ngraficarVectores([Xv.flatten(),v.flatten(),v_np],cols=['green','orange','blue'])\n\nplt.xlim(-2,2)\nplt.ylim(-4,3)",
   "metadata": {
    "cell_id": "97732c92-edde-4253-b9cf-d70a7a6a0cf7",
    "tags": [],
    "deepnote_to_be_reexecuted": false,
    "source_hash": "1e724607",
    "execution_start": 1646614701280,
    "execution_millis": 286,
    "deepnote_cell_type": "code"
   },
   "outputs": [
    {
     "output_type": "execute_result",
     "execution_count": 10,
     "data": {
      "text/plain": "(-4.0, 3.0)"
     },
     "metadata": {}
    },
    {
     "data": {
      "text/plain": "<Figure size 432x288 with 1 Axes>",
      "image/png": "[encoded data removed]"
     },
     "metadata": {
      "needs_background": "light",
      "image/png": {
       "width": 378,
       "height": 252
      }
     },
     "output_type": "display_data"
    }
   ],
   "execution_count": null
  },
  {
   "cell_type": "code",
   "source": "",
   "metadata": {
    "cell_id": "d8b260da-80f3-446e-89f9-73cfeff4989c",
    "tags": [],
    "deepnote_cell_type": "code"
   },
   "outputs": [],
   "execution_count": null
  },
  {
   "cell_type": "markdown",
   "source": "<a style='text-decoration:none;line-height:16px;display:flex;color:#5B5B62;padding:10px;justify-content:end;' href='https://deepnote.com?utm_source=created-in-deepnote-cell&projectId=e4a76e78-c18a-4fc7-af6b-dc86cc664138' target=\"_blank\">\n<img alt='Created in deepnote.com' style='display:inline;max-height:16px;margin:0px;margin-right:7.5px;' src='data:image/svg+xml;base64,PD94bWwgdmVyc2lvbj0iMS4wIiBlbmNvZGluZz0iVVRGLTgiPz4KPHN2ZyB3aWR0aD0iODBweCIgaGVpZ2h0PSI4MHB4IiB2aWV3Qm94PSIwIDAgODAgODAiIHZlcnNpb249IjEuMSIgeG1sbnM9Imh0dHA6Ly93d3cudzMub3JnLzIwMDAvc3ZnIiB4bWxuczp4bGluaz0iaHR0cDovL3d3dy53My5vcmcvMTk5OS94bGluayI+CiAgICA8IS0tIEdlbmVyYXRvcjogU2tldGNoIDU0LjEgKDc2NDkwKSAtIGh0dHBzOi8vc2tldGNoYXBwLmNvbSAtLT4KICAgIDx0aXRsZT5Hcm91cCAzPC90aXRsZT4KICAgIDxkZXNjPkNyZWF0ZWQgd2l0aCBTa2V0Y2guPC9kZXNjPgogICAgPGcgaWQ9IkxhbmRpbmciIHN0cm9rZT0ibm9uZSIgc3Ryb2tlLXdpZHRoPSIxIiBmaWxsPSJub25lIiBmaWxsLXJ1bGU9ImV2ZW5vZGQiPgogICAgICAgIDxnIGlkPSJBcnRib2FyZCIgdHJhbnNmb3JtPSJ0cmFuc2xhdGUoLTEyMzUuMDAwMDAwLCAtNzkuMDAwMDAwKSI+CiAgICAgICAgICAgIDxnIGlkPSJHcm91cC0zIiB0cmFuc2Zvcm09InRyYW5zbGF0ZSgxMjM1LjAwMDAwMCwgNzkuMDAwMDAwKSI+CiAgICAgICAgICAgICAgICA8cG9seWdvbiBpZD0iUGF0aC0yMCIgZmlsbD0iIzAyNjVCNCIgcG9pbnRzPSIyLjM3NjIzNzYyIDgwIDM4LjA0NzY2NjcgODAgNTcuODIxNzgyMiA3My44MDU3NTkyIDU3LjgyMTc4MjIgMzIuNzU5MjczOSAzOS4xNDAyMjc4IDMxLjY4MzE2ODMiPjwvcG9seWdvbj4KICAgICAgICAgICAgICAgIDxwYXRoIGQ9Ik0zNS4wMDc3MTgsODAgQzQyLjkwNjIwMDcsNzYuNDU0OTM1OCA0Ny41NjQ5MTY3LDcxLjU0MjI2NzEgNDguOTgzODY2LDY1LjI2MTk5MzkgQzUxLjExMjI4OTksNTUuODQxNTg0MiA0MS42NzcxNzk1LDQ5LjIxMjIyODQgMjUuNjIzOTg0Niw0OS4yMTIyMjg0IEMyNS40ODQ5Mjg5LDQ5LjEyNjg0NDggMjkuODI2MTI5Niw0My4yODM4MjQ4IDM4LjY0NzU4NjksMzEuNjgzMTY4MyBMNzIuODcxMjg3MSwzMi41NTQ0MjUgTDY1LjI4MDk3Myw2Ny42NzYzNDIxIEw1MS4xMTIyODk5LDc3LjM3NjE0NCBMMzUuMDA3NzE4LDgwIFoiIGlkPSJQYXRoLTIyIiBmaWxsPSIjMDAyODY4Ij48L3BhdGg+CiAgICAgICAgICAgICAgICA8cGF0aCBkPSJNMCwzNy43MzA0NDA1IEwyNy4xMTQ1MzcsMC4yNTcxMTE0MzYgQzYyLjM3MTUxMjMsLTEuOTkwNzE3MDEgODAsMTAuNTAwMzkyNyA4MCwzNy43MzA0NDA1IEM4MCw2NC45NjA0ODgyIDY0Ljc3NjUwMzgsNzkuMDUwMzQxNCAzNC4zMjk1MTEzLDgwIEM0Ny4wNTUzNDg5LDc3LjU2NzA4MDggNTMuNDE4MjY3Nyw3MC4zMTM2MTAzIDUzLjQxODI2NzcsNTguMjM5NTg4NSBDNTMuNDE4MjY3Nyw0MC4xMjg1NTU3IDM2LjMwMzk1NDQsMzcuNzMwNDQwNSAyNS4yMjc0MTcsMzcuNzMwNDQwNSBDMTcuODQzMDU4NiwzNy43MzA0NDA1IDkuNDMzOTE5NjYsMzcuNzMwNDQwNSAwLDM3LjczMDQ0MDUgWiIgaWQ9IlBhdGgtMTkiIGZpbGw9IiMzNzkzRUYiPjwvcGF0aD4KICAgICAgICAgICAgPC9nPgogICAgICAgIDwvZz4KICAgIDwvZz4KPC9zdmc+' > </img>\nCreated in <span style='font-weight:600;margin-left:4px;'>Deepnote</span></a>",
   "metadata": {
    "tags": [],
    "created_in_deepnote_cell": true,
    "deepnote_cell_type": "markdown"
   }
  }
 ],
 "nbformat": 4,
 "nbformat_minor": 2,
 "metadata": {
  "orig_nbformat": 2,
  "deepnote": {
   "is_reactive": false
  },
  "deepnote_notebook_id": "435f927f-d583-405f-82ff-fe78e803799e",
  "deepnote_execution_queue": []
 }
}