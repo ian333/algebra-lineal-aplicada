{
 "cells": [
  {
   "cell_type": "code",
   "metadata": {
    "tags": [],
    "cell_id": "8c048c28-6293-453b-ac24-ad02ebcdcdf1",
    "deepnote_to_be_reexecuted": false,
    "source_hash": "1ed3300c",
    "execution_start": 1647318749883,
    "execution_millis": 7205,
    "deepnote_cell_type": "code",
    "deepnote_cell_height": 81
   },
   "source": "%matplotlib inline",
   "execution_count": 1,
   "outputs": []
  },
  {
   "cell_type": "code",
   "metadata": {
    "cell_id": "7af48c4f-ff0e-484d-8009-5a0f10528a13",
    "tags": [],
    "deepnote_to_be_reexecuted": false,
    "source_hash": "eba39436",
    "execution_start": 1647318757099,
    "execution_millis": 22,
    "deepnote_cell_type": "code",
    "deepnote_cell_height": 99
   },
   "source": "import numpy as np\nimport matplotlib.pyplot as plt",
   "execution_count": 2,
   "outputs": []
  },
  {
   "cell_type": "code",
   "metadata": {
    "cell_id": "67022887-0dd2-446c-a2a1-de37cceaf538",
    "tags": [],
    "deepnote_to_be_reexecuted": false,
    "source_hash": "3214255a",
    "execution_start": 1647318757128,
    "execution_millis": 358,
    "deepnote_cell_type": "code",
    "deepnote_cell_height": 117
   },
   "source": "\n%run \"../funciones auxiliares/graficarMatriz.ipynb\"\n%run \"../funciones auxiliares/graficarVectores.ipynb\"",
   "execution_count": 3,
   "outputs": []
  },
  {
   "cell_type": "code",
   "metadata": {
    "cell_id": "701e5bad-a0ba-4bee-af28-00e90907e554",
    "tags": [],
    "deepnote_to_be_reexecuted": false,
    "source_hash": "12cdaba8",
    "execution_start": 1647318757503,
    "execution_millis": 26,
    "deepnote_cell_type": "code",
    "deepnote_cell_height": 150
   },
   "source": "A = np.array([[3,7],[5,2]])\nprint(A)",
   "execution_count": 4,
   "outputs": [
    {
     "name": "stdout",
     "text": "[[3 7]\n [5 2]]\n",
     "output_type": "stream"
    }
   ]
  },
  {
   "cell_type": "code",
   "metadata": {
    "cell_id": "de96e63e-bf52-41cd-963c-a183b1ea2cbf",
    "tags": [],
    "deepnote_to_be_reexecuted": false,
    "source_hash": "ea7ea578",
    "execution_start": 1647318757539,
    "execution_millis": 25,
    "deepnote_cell_type": "code",
    "deepnote_cell_height": 168
   },
   "source": "U,D,V =np.linalg.svd(A)\nprint(D[0])\nprint(D[1])",
   "execution_count": 5,
   "outputs": [
    {
     "name": "stdout",
     "text": "8.7133796929634\n3.3282148858288965\n",
     "output_type": "stream"
    }
   ]
  },
  {
   "cell_type": "code",
   "metadata": {
    "cell_id": "e9ee7558-5191-4dbc-8d7c-5c0cb521a12c",
    "tags": [],
    "deepnote_to_be_reexecuted": false,
    "source_hash": "8dad6939",
    "execution_start": 1647318757607,
    "execution_millis": 346209947,
    "deepnote_cell_type": "code",
    "deepnote_cell_height": 222
   },
   "source": "\nu1 = [D[0]*U[0,0],D[0]*U[0,1]] \nv1 = [D[1]*U[1,0],D[1]*U[1,1]]\n\nprint(u1)\nprint(v1)",
   "execution_count": 6,
   "outputs": [
    {
     "name": "stdout",
     "text": "[-7.4120434792975685, -4.580894796297923]\n[-1.7497461132982814, 2.8311486829996433]\n",
     "output_type": "stream"
    }
   ]
  },
  {
   "cell_type": "code",
   "metadata": {
    "cell_id": "6ab9bca4-97de-4e42-a30a-f3e6a966cc15",
    "tags": [],
    "deepnote_to_be_reexecuted": false,
    "source_hash": "b623e53d",
    "execution_start": 1647318757700,
    "execution_millis": 346209961,
    "deepnote_cell_type": "code",
    "deepnote_cell_height": 81
   },
   "source": "",
   "execution_count": 6,
   "outputs": []
  },
  {
   "cell_type": "markdown",
   "source": "<a style='text-decoration:none;line-height:16px;display:flex;color:#5B5B62;padding:10px;justify-content:end;' href='https://deepnote.com?utm_source=created-in-deepnote-cell&projectId=e4a76e78-c18a-4fc7-af6b-dc86cc664138' target=\"_blank\">\n<img alt='Created in deepnote.com' style='display:inline;max-height:16px;margin:0px;margin-right:7.5px;' src='data:image/svg+xml;base64,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' > </img>\nCreated in <span style='font-weight:600;margin-left:4px;'>Deepnote</span></a>",
   "metadata": {
    "tags": [],
    "created_in_deepnote_cell": true,
    "deepnote_cell_type": "markdown"
   }
  }
 ],
 "nbformat": 4,
 "nbformat_minor": 2,
 "metadata": {
  "orig_nbformat": 2,
  "deepnote": {
   "is_reactive": false
  },
  "deepnote_notebook_id": "e9ef1d9b-e797-47a0-b30a-b727ccc31736",
  "deepnote_execution_queue": []
 }
}