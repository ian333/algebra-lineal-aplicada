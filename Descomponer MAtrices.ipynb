{
 "cells": [
  {
   "cell_type": "markdown",
   "source": "# Descomposicion de matrices\n\n**Descomponer una matriz**: Quiere decir encontrar dos o más matrices que me ayuden a escribir la matriz original y que tengan ciertas propiedades.\nUna matriz $A$ la podemos escribir como: sus autovectores producto punto una matriz diagonal, donde la matriz diagonal tiene todos los autovalores encontrados, producto punto la matriz inversa de sus autovectores.\n\n**A_calc = autovectores.dot(np.diag(autovalores)).dot(np.linalg.inv(autovectores))**\n\nDescomposición 2: \n* Restricciones: Nuestra Matriz $A$ sea real y simétrica (A = A-transpuesta). Decimos que A = la matriz de autovectores producto punto la matriz diagonal con los autovalores, producto punto la transpuesta de la matriz de autovectores. NOTA: Calcular la transpuesta de una matriz es mucho más económico en cómputo que calcular la inversa de una matriz. Y hay que recordar que el cómputo cuesta dinero.\nA_calc = autovectores.dot(np.diag(autovalores)).dot(autovectores.T)",
   "metadata": {
    "cell_id": "29ec9f64-2110-414c-afb1-aa82a8c0da1a",
    "tags": [],
    "deepnote_cell_type": "markdown"
   }
  },
  {
   "cell_type": "code",
   "source": "import numpy as np\n",
   "metadata": {
    "cell_id": "6e896eb5-30ee-4d94-a7a0-3a5193425076",
    "tags": [],
    "deepnote_to_be_reexecuted": false,
    "source_hash": "83dd6ae",
    "execution_start": 1646615358595,
    "execution_millis": 2,
    "deepnote_cell_type": "code"
   },
   "outputs": [],
   "execution_count": null
  },
  {
   "cell_type": "code",
   "source": "A = np.array([[3,2],[4,1]])\nprint(A)",
   "metadata": {
    "cell_id": "c57d8b66-cbb4-4554-8265-3d67399defe2",
    "tags": [],
    "deepnote_to_be_reexecuted": false,
    "source_hash": "c71bbea0",
    "execution_start": 1646615384810,
    "execution_millis": 5,
    "deepnote_cell_type": "code"
   },
   "outputs": [
    {
     "name": "stdout",
     "text": "[[3 2]\n [4 1]]\n",
     "output_type": "stream"
    }
   ],
   "execution_count": null
  },
  {
   "cell_type": "code",
   "source": "autovalores,autovectores = np.linalg.eig(A) \n\nprint(autovalores)\nprint(autovectores)",
   "metadata": {
    "cell_id": "ca4c05dd-206b-4436-b548-d3c276dd18d6",
    "tags": [],
    "deepnote_to_be_reexecuted": false,
    "source_hash": "8c0d0019",
    "execution_start": 1646615430928,
    "execution_millis": 6,
    "deepnote_cell_type": "code"
   },
   "outputs": [
    {
     "name": "stdout",
     "text": "[ 5. -1.]\n[[ 0.70710678 -0.4472136 ]\n [ 0.70710678  0.89442719]]\n",
     "output_type": "stream"
    }
   ],
   "execution_count": null
  },
  {
   "cell_type": "code",
   "source": "A_calc= autovectores.dot(np.diag(autovalores)).dot(np.linalg.inv(autovectores))\nA_calc",
   "metadata": {
    "cell_id": "bff2c585-3519-4382-a232-a1b0ba80ecbc",
    "tags": [],
    "deepnote_to_be_reexecuted": false,
    "source_hash": "5f0e4c82",
    "execution_start": 1646615736851,
    "execution_millis": 13,
    "deepnote_cell_type": "code"
   },
   "outputs": [
    {
     "output_type": "execute_result",
     "execution_count": 7,
     "data": {
      "text/plain": "array([[3., 2.],\n       [4., 1.]])"
     },
     "metadata": {}
    }
   ],
   "execution_count": null
  },
  {
   "cell_type": "code",
   "source": "A = np.array([[3,2],[2,3]])\nA",
   "metadata": {
    "cell_id": "6037ef6d-938a-43a0-9cef-2410d14a5bfa",
    "tags": [],
    "deepnote_to_be_reexecuted": false,
    "source_hash": "da46eaaa",
    "execution_start": 1646616686471,
    "execution_millis": 5,
    "deepnote_cell_type": "code"
   },
   "outputs": [
    {
     "output_type": "execute_result",
     "execution_count": 9,
     "data": {
      "text/plain": "array([[3, 2],\n       [2, 3]])"
     },
     "metadata": {}
    }
   ],
   "execution_count": null
  },
  {
   "cell_type": "code",
   "source": "print(A==A.T)",
   "metadata": {
    "cell_id": "851301fb-beda-4d6f-b17b-15b11502294f",
    "tags": [],
    "deepnote_to_be_reexecuted": false,
    "source_hash": "2bb84b0d",
    "execution_start": 1646616703301,
    "execution_millis": 370,
    "deepnote_cell_type": "code"
   },
   "outputs": [
    {
     "name": "stdout",
     "text": "[[ True  True]\n [ True  True]]\n",
     "output_type": "stream"
    }
   ],
   "execution_count": null
  },
  {
   "cell_type": "code",
   "source": "autovalores,autovectores= np.linalg.eig(A)\nprint(autovalores)\nprint(autovectores)\n",
   "metadata": {
    "cell_id": "ceba8972-fc52-4989-9377-101fd49b8a90",
    "tags": [],
    "deepnote_to_be_reexecuted": false,
    "source_hash": "b28f38e0",
    "execution_start": 1646616933354,
    "execution_millis": 7,
    "deepnote_cell_type": "code"
   },
   "outputs": [
    {
     "name": "stdout",
     "text": "[5. 1.]\n[[ 0.70710678 -0.70710678]\n [ 0.70710678  0.70710678]]\n",
     "output_type": "stream"
    }
   ],
   "execution_count": null
  },
  {
   "cell_type": "code",
   "source": "A_calc = autovectores.dot(np.diag(autovalores)).dot(autovectores.T)\nA_calc",
   "metadata": {
    "cell_id": "d47c5a6a-4a03-4ab3-98df-32d360abe2e2",
    "tags": [],
    "deepnote_to_be_reexecuted": false,
    "source_hash": "63a4e2d1",
    "execution_start": 1646617147583,
    "execution_millis": 5,
    "deepnote_cell_type": "code"
   },
   "outputs": [
    {
     "output_type": "execute_result",
     "execution_count": 15,
     "data": {
      "text/plain": "array([[3., 2.],\n       [2., 3.]])"
     },
     "metadata": {}
    }
   ],
   "execution_count": null
  },
  {
   "cell_type": "code",
   "source": "",
   "metadata": {
    "cell_id": "1c254649-ecb3-4006-9481-29176e037094",
    "tags": [],
    "deepnote_cell_type": "code"
   },
   "outputs": [],
   "execution_count": null
  },
  {
   "cell_type": "markdown",
   "source": "<a style='text-decoration:none;line-height:16px;display:flex;color:#5B5B62;padding:10px;justify-content:end;' href='https://deepnote.com?utm_source=created-in-deepnote-cell&projectId=e4a76e78-c18a-4fc7-af6b-dc86cc664138' target=\"_blank\">\n<img alt='Created in deepnote.com' style='display:inline;max-height:16px;margin:0px;margin-right:7.5px;' src='data:image/svg+xml;base64,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' > </img>\nCreated in <span style='font-weight:600;margin-left:4px;'>Deepnote</span></a>",
   "metadata": {
    "tags": [],
    "created_in_deepnote_cell": true,
    "deepnote_cell_type": "markdown"
   }
  }
 ],
 "nbformat": 4,
 "nbformat_minor": 2,
 "metadata": {
  "orig_nbformat": 2,
  "deepnote": {
   "is_reactive": false
  },
  "deepnote_notebook_id": "9f0bb850-5536-462d-b78b-f698bb4bf7fd",
  "deepnote_execution_queue": []
 }
}