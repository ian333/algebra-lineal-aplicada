{
 "cells": [
  {
   "cell_type": "code",
   "metadata": {
    "cell_id": "d78c5e1b-7e75-4201-997d-65518dec3039",
    "tags": [],
    "deepnote_to_be_reexecuted": false,
    "source_hash": "a89e9706",
    "execution_start": 1646011961554,
    "execution_millis": 1348,
    "deepnote_cell_type": "code"
   },
   "source": "%matplotlib inline ",
   "execution_count": null,
   "outputs": []
  },
  {
   "cell_type": "code",
   "metadata": {
    "cell_id": "d41b7e71-052e-4190-974b-ae59316e57e2",
    "tags": [],
    "deepnote_to_be_reexecuted": false,
    "source_hash": "6ffc6b57",
    "execution_start": 1646011962910,
    "execution_millis": 7,
    "deepnote_cell_type": "code"
   },
   "source": "import numpy as np\nimport matplotlib.pyplot as plt\n",
   "execution_count": null,
   "outputs": []
  },
  {
   "cell_type": "code",
   "metadata": {
    "cell_id": "1fb4a968-fcdb-477f-8887-3c99613f748f",
    "tags": [],
    "deepnote_to_be_reexecuted": false,
    "source_hash": "947744d0",
    "execution_start": 1646011962924,
    "execution_millis": 11,
    "deepnote_cell_type": "code"
   },
   "source": "A = np.array([[-1,3],[2,-2]])\nprint(A)",
   "execution_count": null,
   "outputs": [
    {
     "name": "stdout",
     "text": "[[-1  3]\n [ 2 -2]]\n",
     "output_type": "stream"
    }
   ]
  },
  {
   "cell_type": "code",
   "metadata": {
    "cell_id": "01589f4e-1c99-4a02-8e09-54d5eea0f4be",
    "tags": [],
    "deepnote_to_be_reexecuted": false,
    "source_hash": "cdd13414",
    "execution_start": 1646011962938,
    "execution_millis": 8,
    "deepnote_cell_type": "code"
   },
   "source": "vector = np.array([[2],[1]])\nprint(vector)",
   "execution_count": null,
   "outputs": [
    {
     "name": "stdout",
     "text": "[[2]\n [1]]\n",
     "output_type": "stream"
    }
   ]
  },
  {
   "cell_type": "code",
   "metadata": {
    "cell_id": "bcbdf344-46e1-419a-be74-8be46f1705ee",
    "tags": [],
    "deepnote_to_be_reexecuted": false,
    "source_hash": "ce7c69ff",
    "execution_start": 1646011962992,
    "execution_millis": 75,
    "deepnote_cell_type": "code"
   },
   "source": "%run \"..//funciones auxiliares/graficarVectores.ipynb\"",
   "execution_count": null,
   "outputs": []
  },
  {
   "cell_type": "code",
   "metadata": {
    "cell_id": "a85d2027-e50f-473f-ab75-28031dc8d0e1",
    "tags": [],
    "deepnote_to_be_reexecuted": false,
    "source_hash": "933ab34b",
    "execution_start": 1646011963109,
    "execution_millis": 4,
    "deepnote_cell_type": "code"
   },
   "source": "print(vector)\nprint(vector.flatten())",
   "execution_count": null,
   "outputs": [
    {
     "name": "stdout",
     "text": "[[2]\n [1]]\n[2 1]\n",
     "output_type": "stream"
    }
   ]
  },
  {
   "cell_type": "code",
   "metadata": {
    "cell_id": "29f1edc0-dda3-419d-b4a9-fdabf6859d30",
    "tags": [],
    "deepnote_to_be_reexecuted": false,
    "source_hash": "528fdd94",
    "execution_start": 1646011963111,
    "execution_millis": 45133,
    "deepnote_cell_type": "code"
   },
   "source": "print(A)\nprint(A.flatten())",
   "execution_count": null,
   "outputs": [
    {
     "name": "stdout",
     "text": "[[-1  3]\n [ 2 -2]]\n[-1  3  2 -2]\n",
     "output_type": "stream"
    }
   ]
  },
  {
   "cell_type": "code",
   "metadata": {
    "cell_id": "abd46a14-69d5-48ff-8398-097c33701874",
    "tags": [],
    "deepnote_to_be_reexecuted": false,
    "source_hash": "a61b93b0",
    "execution_start": 1646011963111,
    "execution_millis": 347,
    "deepnote_cell_type": "code"
   },
   "source": "graficarVectores([vector.flatten()],cols='blue')\n\nplt.xlim(-0.5,3)\nplt.ylim(-0.5,2)",
   "execution_count": null,
   "outputs": [
    {
     "output_type": "execute_result",
     "execution_count": 8,
     "data": {
      "text/plain": "(-0.5, 2.0)"
     },
     "metadata": {}
    },
    {
     "data": {
      "text/plain": "<Figure size 432x288 with 1 Axes>",
      "image/png": "[encoded data removed]"
     },
     "metadata": {
      "needs_background": "light",
      "image/png": {
       "width": 388,
       "height": 252
      }
     },
     "output_type": "display_data"
    }
   ]
  },
  {
   "cell_type": "code",
   "metadata": {
    "cell_id": "a8007511-dae4-4f6e-98ca-6df592707cca",
    "tags": [],
    "deepnote_to_be_reexecuted": false,
    "source_hash": "5ed5bcbf",
    "execution_start": 1646012004631,
    "execution_millis": 14,
    "deepnote_cell_type": "code"
   },
   "source": "vector_transformado = A.dot(vector)\nprint(vector_transformado)",
   "execution_count": null,
   "outputs": [
    {
     "name": "stdout",
     "text": "[[1]\n [2]]\n",
     "output_type": "stream"
    }
   ]
  },
  {
   "cell_type": "code",
   "metadata": {
    "cell_id": "699deea3-d9b9-4334-95f3-78439b327224",
    "tags": [],
    "deepnote_to_be_reexecuted": false,
    "source_hash": "d3798d71",
    "execution_start": 1646012075986,
    "execution_millis": 647,
    "deepnote_cell_type": "code"
   },
   "source": "graficarVectores([vector.flatten(),vector_transformado.flatten()],cols=['blue','orange'])\nplt.xlim(-0.5,3)\nplt.ylim(-0.5,3)",
   "execution_count": null,
   "outputs": [
    {
     "output_type": "execute_result",
     "execution_count": 12,
     "data": {
      "text/plain": "(-0.5, 3.0)"
     },
     "metadata": {}
    },
    {
     "data": {
      "text/plain": "<Figure size 432x288 with 1 Axes>",
      "image/png": "[encoded data removed]"
     },
     "metadata": {
      "needs_background": "light",
      "image/png": {
       "width": 388,
       "height": 252
      }
     },
     "output_type": "display_data"
    }
   ]
  },
  {
   "cell_type": "code",
   "metadata": {
    "cell_id": "7737d361-21ce-4423-977a-343ef963af7a",
    "tags": [],
    "deepnote_cell_type": "code"
   },
   "source": "",
   "execution_count": null,
   "outputs": []
  },
  {
   "cell_type": "markdown",
   "source": "<a style='text-decoration:none;line-height:16px;display:flex;color:#5B5B62;padding:10px;justify-content:end;' href='https://deepnote.com?utm_source=created-in-deepnote-cell&projectId=e4a76e78-c18a-4fc7-af6b-dc86cc664138' target=\"_blank\">\n<img alt='Created in deepnote.com' style='display:inline;max-height:16px;margin:0px;margin-right:7.5px;' src='data:image/svg+xml;base64,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' > </img>\nCreated in <span style='font-weight:600;margin-left:4px;'>Deepnote</span></a>",
   "metadata": {
    "tags": [],
    "created_in_deepnote_cell": true,
    "deepnote_cell_type": "markdown"
   }
  }
 ],
 "nbformat": 4,
 "nbformat_minor": 2,
 "metadata": {
  "orig_nbformat": 2,
  "deepnote": {
   "is_reactive": false
  },
  "deepnote_notebook_id": "2c7c0ba7-5a81-43c0-a7a1-b49cac6f30fb",
  "deepnote_execution_queue": []
 }
}