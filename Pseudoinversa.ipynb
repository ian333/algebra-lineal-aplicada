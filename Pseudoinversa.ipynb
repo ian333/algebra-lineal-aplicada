{
 "cells": [
  {
   "cell_type": "code",
   "metadata": {
    "cell_id": "316b4a98-c0d4-48aa-a246-84f70a2c7f74",
    "tags": [],
    "deepnote_to_be_reexecuted": false,
    "source_hash": "1ed3300c",
    "execution_start": 1647735804114,
    "execution_millis": 1528,
    "deepnote_cell_type": "code",
    "deepnote_cell_height": 81
   },
   "source": "%matplotlib inline",
   "outputs": [],
   "execution_count": null
  },
  {
   "cell_type": "code",
   "metadata": {
    "cell_id": "0ce6bd96-cfb0-4197-8769-379c6db43914",
    "tags": [],
    "deepnote_to_be_reexecuted": false,
    "source_hash": "f189872e",
    "execution_start": 1647735805681,
    "execution_millis": 0,
    "deepnote_cell_type": "code",
    "deepnote_cell_height": 135
   },
   "source": "import numpy as np \nimport matplotlib.pyplot as plt\n\nnp.set_printoptions(suppress=True)",
   "outputs": [],
   "execution_count": null
  },
  {
   "cell_type": "code",
   "metadata": {
    "cell_id": "9d7e1281-db9b-4f01-af1b-71059a5f248f",
    "tags": [],
    "deepnote_to_be_reexecuted": false,
    "source_hash": "9e4463fc",
    "execution_start": 1647735805682,
    "execution_millis": 0,
    "deepnote_cell_type": "code",
    "deepnote_cell_height": 416
   },
   "source": "A = np.array([[1,2],[3,4],[5,6]])\n\nU,D,V = np.linalg.svd(A)\nprint(\"U\")\nprint(U)\nprint(\"D\")\nprint(D)\nprint(\"V\")\nprint(V)",
   "outputs": [
    {
     "name": "stdout",
     "text": "U\n[[-0.2298477   0.88346102  0.40824829]\n [-0.52474482  0.24078249 -0.81649658]\n [-0.81964194 -0.40189603  0.40824829]]\nD\n[9.52551809 0.51430058]\nV\n[[-0.61962948 -0.78489445]\n [-0.78489445  0.61962948]]\n",
     "output_type": "stream"
    }
   ],
   "execution_count": null
  },
  {
   "cell_type": "code",
   "metadata": {
    "cell_id": "97ac3de5-fdb7-4871-a754-1a59cd55221d",
    "tags": [],
    "deepnote_to_be_reexecuted": false,
    "source_hash": "5f8ba949",
    "execution_start": 1647735805683,
    "execution_millis": 1,
    "deepnote_cell_type": "code",
    "deepnote_cell_height": 150
   },
   "source": "D_pse= np.zeros((A.shape[0],A.shape[1])).T\nprint(D_pse)",
   "outputs": [
    {
     "name": "stdout",
     "text": "[[0. 0. 0.]\n [0. 0. 0.]]\n",
     "output_type": "stream"
    }
   ],
   "execution_count": null
  },
  {
   "cell_type": "code",
   "metadata": {
    "cell_id": "9226184f-4187-445e-aaf4-7adf3f8c766a",
    "tags": [],
    "deepnote_to_be_reexecuted": false,
    "source_hash": "1665abf8",
    "execution_start": 1647735805726,
    "execution_millis": 14,
    "deepnote_cell_type": "code",
    "deepnote_cell_height": 188
   },
   "source": "print(\"Valores a reemplazar en D_pse\")\n\nprint(D_pse[:D.shape[0],:D.shape[0]])",
   "outputs": [
    {
     "name": "stdout",
     "text": "Valores a reemplazar en D_pse\n[[0. 0.]\n [0. 0.]]\n",
     "output_type": "stream"
    }
   ],
   "execution_count": null
  },
  {
   "cell_type": "code",
   "metadata": {
    "cell_id": "4da0669a-3681-4053-81b0-11c56c23e82b",
    "tags": [],
    "deepnote_to_be_reexecuted": false,
    "source_hash": "3d297135",
    "execution_start": 1647735805727,
    "execution_millis": 14,
    "deepnote_cell_type": "code",
    "deepnote_cell_height": 170
   },
   "source": "print(\"Valores que pondremps en D_pse\")\nprint(np.linalg.inv(np.diag(D)))",
   "outputs": [
    {
     "name": "stdout",
     "text": "Valores que pondremps en D_pse\n[[0.10498117 0.        ]\n [0.         1.94438824]]\n",
     "output_type": "stream"
    }
   ],
   "execution_count": null
  },
  {
   "cell_type": "code",
   "metadata": {
    "cell_id": "9591c250-5be6-4be0-873f-7e9c4a348ad2",
    "tags": [],
    "deepnote_to_be_reexecuted": false,
    "source_hash": "2c1c4937",
    "execution_start": 1647735805734,
    "execution_millis": 8,
    "deepnote_cell_type": "code",
    "deepnote_cell_height": 168
   },
   "source": "D_pse[:D.shape[0],:D.shape[0]] = np.linalg.inv(np.diag(D))\nprint(D_pse)\n",
   "outputs": [
    {
     "name": "stdout",
     "text": "[[0.10498117 0.         0.        ]\n [0.         1.94438824 0.        ]]\n",
     "output_type": "stream"
    }
   ],
   "execution_count": null
  },
  {
   "cell_type": "code",
   "metadata": {
    "cell_id": "749975b3-56c7-46a7-ac59-6cb0ce4ec525",
    "tags": [],
    "deepnote_to_be_reexecuted": false,
    "source_hash": "18aed96c",
    "execution_start": 1647735805749,
    "execution_millis": 26351062,
    "deepnote_cell_type": "code",
    "deepnote_cell_height": 155.375,
    "deepnote_output_heights": [
     40.390625
    ]
   },
   "source": "A_pse = V.T.dot(D_pse).dot(U.T)\nA_pse",
   "outputs": [
    {
     "output_type": "execute_result",
     "execution_count": 9,
     "data": {
      "text/plain": "array([[-1.33333333, -0.33333333,  0.66666667],\n       [ 1.08333333,  0.33333333, -0.41666667]])"
     },
     "metadata": {}
    }
   ],
   "execution_count": null
  },
  {
   "cell_type": "code",
   "metadata": {
    "cell_id": "e32f73b9-b2d4-4aaf-a69e-8982abcbd5ca",
    "tags": [],
    "deepnote_to_be_reexecuted": false,
    "source_hash": "e4a576b9",
    "execution_start": 1647709508744,
    "execution_millis": 7,
    "deepnote_cell_type": "code",
    "deepnote_cell_height": 155.375,
    "deepnote_output_heights": [
     40.390625
    ]
   },
   "source": "A_pse_calc=np.linalg.pinv(A)\nA_pse_calc",
   "execution_count": null,
   "outputs": [
    {
     "output_type": "execute_result",
     "execution_count": 31,
     "data": {
      "text/plain": "array([[-0.50515464, -0.78865979,  0.54123711],\n       [ 0.42268041,  0.67010309, -0.3814433 ]])"
     },
     "metadata": {}
    }
   ]
  },
  {
   "cell_type": "code",
   "metadata": {
    "cell_id": "04910afd-335f-4fd4-b883-2a3d8217af9e",
    "tags": [],
    "deepnote_to_be_reexecuted": false,
    "source_hash": "c03c09fe",
    "execution_start": 1647709543239,
    "execution_millis": 7,
    "deepnote_cell_type": "code",
    "deepnote_cell_height": 155.375,
    "deepnote_output_heights": [
     40.390625
    ]
   },
   "source": "A_pse_calc.dot(A)\n",
   "execution_count": null,
   "outputs": [
    {
     "output_type": "execute_result",
     "execution_count": 32,
     "data": {
      "text/plain": "array([[ 1., -0.],\n       [ 0.,  1.]])"
     },
     "metadata": {}
    }
   ]
  },
  {
   "cell_type": "code",
   "metadata": {
    "cell_id": "b49386fd-b4ea-4615-8a02-c91e96b75f2c",
    "tags": [],
    "deepnote_to_be_reexecuted": false,
    "source_hash": "3b98fbc3",
    "execution_start": 1647709571412,
    "execution_millis": 10,
    "deepnote_cell_type": "code",
    "deepnote_cell_height": 191.375,
    "deepnote_output_heights": [
     40.390625
    ]
   },
   "source": "\nnp.set_printoptions(suppress=False)\nA_pse_calc.dot(A)\n",
   "execution_count": null,
   "outputs": [
    {
     "output_type": "execute_result",
     "execution_count": 33,
     "data": {
      "text/plain": "array([[ 1.00000000e+00, -1.77635684e-15],\n       [ 4.44089210e-16,  1.00000000e+00]])"
     },
     "metadata": {}
    }
   ]
  },
  {
   "cell_type": "markdown",
   "source": "Las pseudo Inversas no son Conmutativas\n",
   "metadata": {
    "cell_id": "18d6c2a9-c553-444b-be13-214e7d69b862",
    "tags": [],
    "deepnote_cell_type": "markdown",
    "deepnote_cell_height": 52.390625
   }
  },
  {
   "cell_type": "code",
   "metadata": {
    "cell_id": "f0b3b88a-7f0e-47b3-8c6c-eadb4fb9a728",
    "tags": [],
    "deepnote_to_be_reexecuted": false,
    "source_hash": "1bcb8da2",
    "execution_start": 1647709658341,
    "execution_millis": 2,
    "deepnote_cell_type": "code",
    "deepnote_cell_height": 174.578125,
    "deepnote_output_heights": [
     59.59375
    ]
   },
   "source": "A.dot(A_pse_calc)\n",
   "execution_count": null,
   "outputs": [
    {
     "output_type": "execute_result",
     "execution_count": 34,
     "data": {
      "text/plain": "array([[ 0.25773196,  0.43298969, -0.06185567],\n       [ 0.43298969,  0.74742268,  0.03608247],\n       [-0.06185567,  0.03608247,  0.99484536]])"
     },
     "metadata": {}
    }
   ]
  },
  {
   "cell_type": "code",
   "metadata": {
    "cell_id": "a20529f6-f82a-4550-912f-5a49dd369787",
    "tags": [],
    "deepnote_to_be_reexecuted": false,
    "source_hash": "154ed061",
    "execution_start": 1647735879755,
    "execution_millis": 22,
    "deepnote_cell_type": "code",
    "deepnote_cell_height": 173.375,
    "deepnote_output_heights": [
     40.390625
    ]
   },
   "source": "A = np.array([[1,2],[3,4],[5,6]])\nA_pse=np.linalg.pinv(A)\nA_pse",
   "outputs": [
    {
     "output_type": "execute_result",
     "execution_count": 12,
     "data": {
      "text/plain": "array([[-1.33333333, -0.33333333,  0.66666667],\n       [ 1.08333333,  0.33333333, -0.41666667]])"
     },
     "metadata": {}
    }
   ],
   "execution_count": null
  },
  {
   "cell_type": "code",
   "source": "",
   "metadata": {
    "cell_id": "08e28cb1-3406-4f08-80a3-fb865df8c26a",
    "tags": [],
    "deepnote_cell_type": "code",
    "deepnote_cell_height": 66
   },
   "outputs": [],
   "execution_count": null
  },
  {
   "cell_type": "markdown",
   "source": "<a style='text-decoration:none;line-height:16px;display:flex;color:#5B5B62;padding:10px;justify-content:end;' href='https://deepnote.com?utm_source=created-in-deepnote-cell&projectId=e4a76e78-c18a-4fc7-af6b-dc86cc664138' target=\"_blank\">\n<img alt='Created in deepnote.com' style='display:inline;max-height:16px;margin:0px;margin-right:7.5px;' src='data:image/svg+xml;base64,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' > </img>\nCreated in <span style='font-weight:600;margin-left:4px;'>Deepnote</span></a>",
   "metadata": {
    "tags": [],
    "created_in_deepnote_cell": true,
    "deepnote_cell_type": "markdown"
   }
  }
 ],
 "nbformat": 4,
 "nbformat_minor": 2,
 "metadata": {
  "orig_nbformat": 2,
  "deepnote": {
   "is_reactive": false
  },
  "deepnote_notebook_id": "334bb44f-8f39-4725-a871-384fcff36a69",
  "deepnote_execution_queue": []
 }
}